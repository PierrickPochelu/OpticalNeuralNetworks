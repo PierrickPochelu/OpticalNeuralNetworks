{
 "cells": [
  {
   "cell_type": "markdown",
   "id": "673de73c-3a58-4b75-bca2-9917309967d4",
   "metadata": {},
   "source": [
    "# From NN to ONN, different strategies comparison\n",
    "\n",
    "\n",
    "\n"
   ]
  },
  {
   "cell_type": "markdown",
   "id": "8ab2b6bd-2c74-4312-8e55-8d1ba9f5a4d4",
   "metadata": {},
   "source": [
    "\n",
    "\n",
    "\n",
    "Given Y=WX a standard trained NN layer, with Y the prediction, X input data, and W ALREADY TRAINED weights.\n",
    "\n",
    "Convert the weights W into a sequence of 2x2 rotation matrices (describing MZI) and scaling vector (photonic attenuator).\n",
    "\n",
    "\n",
    "**Strategy 1 simple 2x2 decomposition**\n",
    "\n",
    "**Strategy 2 Teacher-Student**\n",
    "\n",
    "[3] https://arxiv.org/pdf/1503.02531.pdf Knowledge Distilling\n",
    "\n",
    "**Strategy 3 Teacher-Student with prior decompotion**\n",
    "\n",
    "**Strategy 4 TT-decompotion**\n",
    "\n",
    "[1] https://aip.scitation.org/doi/10.1063/5.0070913# Inspiration for designing the strategy 1\n",
    "\n",
    "[2] https://github.com/Bihaqo/t3f/ T3F framework for TensorTrain arithmetics based on Tensorflow. I implement with numpy."
   ]
  },
  {
   "cell_type": "code",
   "execution_count": 24,
   "id": "0ff7a498-bdb2-4ac7-9ed6-fde52b40cd74",
   "metadata": {},
   "outputs": [
    {
     "name": "stdout",
     "output_type": "stream",
     "text": [
      "X\n",
      "[[ 0.10438494]\n",
      " [ 0.16895214]\n",
      " [ 0.92387276]\n",
      " [-0.41570495]\n",
      " [-0.51834244]\n",
      " [-0.79941212]\n",
      " [-0.96714074]\n",
      " [ 0.85905863]\n",
      " [ 0.33983309]\n",
      " [ 0.57030582]\n",
      " [-0.43653979]\n",
      " [ 0.17282033]\n",
      " [-0.87208947]\n",
      " [-0.02874481]\n",
      " [ 0.95499028]\n",
      " [ 0.75301049]]\n",
      "weights\n",
      "[[ 0.09762701  0.43037873  0.20552675  0.08976637 -0.1526904   0.29178823\n",
      "  -0.12482558  0.783546    0.92732552 -0.23311696  0.58345008  0.05778984\n",
      "   0.13608912  0.85119328 -0.85792788 -0.8257414 ]\n",
      " [-0.95956321  0.66523969  0.5563135   0.7400243   0.95723668  0.59831713\n",
      "  -0.07704128  0.56105835 -0.76345115  0.27984204 -0.71329343  0.88933783\n",
      "   0.04369664 -0.17067612 -0.47088878  0.54846738]\n",
      " [-0.08769934  0.1368679  -0.9624204   0.23527099  0.22419145  0.23386799\n",
      "   0.88749616  0.3636406  -0.2809842  -0.12593609  0.39526239 -0.87954906\n",
      "   0.33353343  0.34127574 -0.57923488 -0.7421474 ]\n",
      " [-0.3691433  -0.27257846  0.14039354 -0.12279697  0.97674768 -0.79591038\n",
      "  -0.58224649 -0.67738096  0.30621665 -0.49341679 -0.06737845 -0.51114882\n",
      "  -0.68206083 -0.77924972  0.31265918 -0.7236341 ]\n",
      " [-0.60683528 -0.26254966  0.64198646 -0.80579745  0.67588981 -0.80780318\n",
      "   0.95291893 -0.0626976   0.95352218  0.20969104  0.47852716 -0.92162442\n",
      "  -0.43438607 -0.75960688 -0.4077196  -0.76254456]\n",
      " [-0.36403364 -0.17147401 -0.87170501  0.38494424  0.13320291 -0.46922102\n",
      "   0.04649611 -0.81211898  0.15189299  0.8585924  -0.3628621   0.33482076\n",
      "  -0.73640428  0.43265441 -0.42118781 -0.63361728]\n",
      " [ 0.17302587 -0.95978491  0.65788006 -0.99060905  0.35563307 -0.45998405\n",
      "   0.47038804  0.92437709 -0.50249371  0.15231467  0.18408386  0.14450381\n",
      "  -0.55383673  0.90549802 -0.10574924  0.69281734]\n",
      " [ 0.39895855 -0.4051261   0.62759564 -0.20698852  0.76220639  0.16254575\n",
      "   0.76347072  0.38506318  0.45050856  0.00264876  0.91216727  0.2879804\n",
      "  -0.1522899   0.21278643 -0.9616136  -0.39685037]\n",
      " [ 0.32034707 -0.41984479  0.23603086 -0.1424626  -0.72905187 -0.40343535\n",
      "   0.13992982  0.18174552  0.1486505   0.30640164  0.30420654 -0.13716313\n",
      "   0.79309319 -0.26487626 -0.12827015  0.78384671]\n",
      " [ 0.61238798  0.40777717 -0.79954623  0.83896523  0.4284826   0.99769401\n",
      "  -0.70110339  0.73625211 -0.67501413  0.23111913 -0.75236003  0.69601646\n",
      "   0.61463792  0.13820148 -0.18563341 -0.86166601]\n",
      " [ 0.39485755 -0.09291463  0.4441112   0.73276465  0.95104301  0.71160668\n",
      "  -0.97657183 -0.28004387  0.45998112 -0.65674065  0.04207321 -0.89132402\n",
      "  -0.60000695 -0.96295641  0.58739541 -0.55215062]\n",
      " [-0.30929664  0.85616259  0.4088288  -0.93632214 -0.67061169  0.2429568\n",
      "   0.15445718 -0.52421436  0.868428    0.22793191  0.07126561  0.17981995\n",
      "   0.46024406 -0.37611001 -0.20355788 -0.5803125 ]\n",
      " [-0.62761399  0.88874478  0.47910159 -0.01908238 -0.54517074 -0.49128704\n",
      "  -0.88394168 -0.13116675 -0.37640824  0.39268698 -0.24449632 -0.64079264\n",
      "  -0.95064254 -0.86550074  0.35878555 -0.09260631]\n",
      " [ 0.07315842  0.79334259  0.98067789 -0.56620603  0.32615641 -0.47335525\n",
      "  -0.958698    0.51675731 -0.3599657  -0.23307221  0.17663423  0.66209691\n",
      "   0.25796369  0.74530131 -0.45291593  0.59609367]\n",
      " [-0.62872811  0.90558331  0.37497655 -0.56898465  0.89474118  0.46171161\n",
      "  -0.49211671 -0.57337605  0.03640143 -0.94867456 -0.58505985 -0.15062906\n",
      "  -0.25166004 -0.07284915 -0.44474259  0.17356869]\n",
      " [ 0.72771121 -0.76493629  0.03475821 -0.73586379  0.43371936 -0.20788059\n",
      "   0.13084262 -0.63344033 -0.71030448 -0.02388744 -0.28877452  0.88086389\n",
      "   0.53065051  0.49732724  0.80743948 -0.83315513]]\n",
      "Y\n",
      "[[-0.77158681]\n",
      " [ 0.09590663]\n",
      " [-3.72664851]\n",
      " [ 0.34198273]\n",
      " [-0.34711657]\n",
      " [-0.96093891]\n",
      " [ 2.13643318]\n",
      " [-1.57784408]\n",
      " [ 0.81346829]\n",
      " [-1.67871821]\n",
      " [ 0.07877242]\n",
      " [-0.16388692]\n",
      " [ 3.17159871]\n",
      " [ 2.4155445 ]\n",
      " [-0.55092264]\n",
      " [-0.754663  ]]\n"
     ]
    }
   ],
   "source": [
    "import numpy as np\n",
    "np.random.seed(0)\n",
    "N=4\n",
    "weights = np.random.uniform(-1., +1., (N, N))\n",
    "X=np.random.uniform(-1., +1., (N, 1))\n",
    "\n",
    "Y=np.dot(weights, X)\n",
    "print(\"X\")\n",
    "print(X)\n",
    "print(\"weights\")\n",
    "print(weights)\n",
    "print(\"Y\")\n",
    "print(Y)"
   ]
  },
  {
   "cell_type": "markdown",
   "id": "145470fb-6548-4deb-932a-2453df6275f5",
   "metadata": {},
   "source": [
    "# Strategy 1: rank-2 TensorTrain decomposition\n",
    "\n",
    "Illustration of the strategy:\n",
    "\n",
    "![alt text](SVD.png \"svd decomposition\")\n",
    "\n"
   ]
  },
  {
   "cell_type": "markdown",
   "id": "b3129319-7748-468e-bb0e-f56076bc00f5",
   "metadata": {},
   "source": [
    "### Util functions:\n",
    "* from_arr_to_tt : Converts np.ndarray into TensorTrain\n",
    "* from_tt_to_arr : Converts TensorTrain format into np.ndarray\n",
    "* tt_dot : Dot product between TensorTrain tensors"
   ]
  },
  {
   "cell_type": "markdown",
   "id": "05599699-8e05-4192-af75-4f2dfd62f29c",
   "metadata": {},
   "source": [
    "## Strategy 1: Tiled 2x2 matrices decomposition"
   ]
  },
  {
   "cell_type": "markdown",
   "id": "f3895b40-4377-4108-b5e1-80c317fdbc39",
   "metadata": {},
   "source": [
    "Steps:\n",
    "* Split NxN matrix into 2x2 tiles\n",
    "* Using eiven values/vectors decomposition to compute 2x2 rotation matrices 2d scaling vectors\n",
    "* Using those matrices/vectors, to compute phase shift in MZIs/attenuators based on arccos/arcsin"
   ]
  },
  {
   "cell_type": "markdown",
   "id": "23040adb-4b91-4c95-9e15-cbf985595126",
   "metadata": {},
   "source": [
    "## Utils\n",
    "* from_arr_to_tiles\n",
    "* from_tiles_to_arr\n",
    "* dot_tile_vec"
   ]
  },
  {
   "cell_type": "code",
   "execution_count": 79,
   "id": "b30a2e84-8bd0-46ee-ba91-640416dc3a30",
   "metadata": {},
   "outputs": [],
   "source": [
    "def from_arr_to_tiles(matrix):\n",
    "    n = matrix.shape[0]\n",
    "    if n % 2 != 0:\n",
    "        raise ValueError(\"Matrix must be of even size\")\n",
    "\n",
    "    block_matrices = []\n",
    "    for i in range(0, n, 2):\n",
    "        for j in range(0, n, 2):\n",
    "            block = matrix[i:i+2, j:j+2]\n",
    "            block_matrices.append(block)\n",
    "    return block_matrices\n",
    "\n",
    "def from_tiles_to_arr(block_matrices):\n",
    "    n = len(block_matrices)\n",
    "    size = int(np.sqrt(n))\n",
    "    if size ** 2 != n:\n",
    "        raise ValueError(\"Number of block matrices must be a perfect square\")\n",
    "\n",
    "    C = np.zeros((size*2, size*2))\n",
    "    for i in range(size):\n",
    "        for j in range(size):\n",
    "            C[i*2:i*2+2, j*2:j*2+2] = block_matrices[i*size+j]\n",
    "    return C\n",
    "\n",
    "def dot_tile_vec(block_matrices, x):\n",
    "    \"\"\"tiled matrix and normal vector multiplication \"\"\"\n",
    "    n = len(block_matrices)\n",
    "    size = int(np.sqrt(n))\n",
    "    if size ** 2 != n:\n",
    "        raise ValueError(\"Number of block matrices must be a perfect square\")\n",
    "    if x.shape[0] != size*2:\n",
    "        raise ValueError(\"Input vector must have the same size as the matrix\")\n",
    "    y = x.copy()\n",
    "    result = np.zeros(y.shape)\n",
    "    for i in range(size):\n",
    "        for j in range(size):\n",
    "            b1=block_matrices[i*size+j]\n",
    "            b2=y[j*2:j*2+2]\n",
    "            result[i*2:i*2+2] += np.dot(b1, b2) #<----- 2x2 dot between matrix and vector\n",
    "    return result\n",
    "\n",
    "def tiled_prediction(tiled_mat_a, tiled_vec_b, vec_x):\n",
    "    \"\"\"tiled computation between: (a.x)+b. \n",
    "    With a tiled matrix format and b a tiled vector format. x is a standard vector. \"\"\"\n",
    "    n = len(tiled_mat_a)\n",
    "    size = int(np.sqrt(n))\n",
    "    y = vec_x.copy()\n",
    "    result = np.zeros(y.shape)\n",
    "    for i in range(size):\n",
    "        for j in range(size):\n",
    "            b1=tiled_mat_a[i * size + j] # <---- 2x2 matrix\n",
    "            b2=y[j*2:j*2+2] # <------ 1x2 numpy array\n",
    "            b3=np.array([tiled_vec_b[i * size + j]]) # <------- 1x2 numpy array\n",
    "            result[i*2:i*2+2] += np.dot(b1, b2) + np.diag(b3) #<----- The core computing is here\n",
    "    return result\n",
    "\n",
    "\n",
    "def from_random_to_rotation(x):\n",
    "    eigenvalues, eigenvectors = np.linalg.eig(x)\n",
    "    \n",
    "    # rotation matrix are not unique. Different runs may produces different rotation. However, the dot product of them is unique.\n",
    "    rot0=[[eigenvectors[0][0], -eigenvectors[1][0]],\n",
    "          [eigenvectors[1][0], eigenvectors[0][0]]]\n",
    "    rot1=[[eigenvectors[0][1], -eigenvectors[1][1]],\n",
    "          [eigenvectors[1][1], eigenvectors[0][1]]]\n",
    "    rot=np.dot(rot0,rot1)\n",
    "    \n",
    "    make_real=lambda x: x.real\n",
    "    rot[0][0]=make_real(rot[0][0])\n",
    "    rot[1][0]=make_real(rot[1][0])\n",
    "    rot[0][1]=make_real(rot[0][1])\n",
    "    rot[1][1]=make_real(rot[1][1])\n",
    "    \n",
    "    eigenvalues[0]=make_real(eigenvalues[0])\n",
    "    eigenvalues[1]=make_real(eigenvalues[1])\n",
    "    \n",
    "    return rot.astype(np.float32), eigenvalues.astype(np.float32)\n",
    "\n",
    "def check_and_validate_2x2_rot_mat(x):\n",
    "    epsilon=1e-2\n",
    "    if x.shape != (2, 2):\n",
    "        raise ValueError(f\"Matrix {x} is not 2x2\")\n",
    "    det = np.linalg.det(x)\n",
    "    if abs(det - 1) > epsilon: #The determinant of a rotation matrix is always 1, because the matrix preserves the volume of the space it acts on. \n",
    "        raise ValueError(f\"Matrix {x} is not a rotation matrix. Determinant: {det}\")\n",
    "    if np.allclose(np.dot(x, x.T),np.eye(2),atol=epsilon): #\n",
    "        raise ValueError(f\"Matrix {x} is not orthogonal. x.xT = {I}\")\n",
    "\n",
    "def rotation_mzi_angle(x):\n",
    "    #check_and_validate_2x2_rot_mat(x)\n",
    "\n",
    "    clipped_x=np.clip(x, -1, 1)\n",
    "    angle = np.arccos(clipped_x[0][0])\n",
    "    # revert the angle if needed\n",
    "    if clipped_x[1,0] < 0:\n",
    "        angle = 2*np.pi - angle \n",
    "    return angle\n",
    "\n",
    "def rotation_2attenuators_angle(x):\n",
    "    clipped_x=np.clip(x, -1, 1)\n",
    "    return np.arccos(clipped_x)"
   ]
  },
  {
   "cell_type": "markdown",
   "id": "79e54907-127f-4c77-bc50-c8d87433da35",
   "metadata": {},
   "source": [
    "### Converts NxN random weights -> 2x2 rotation matrices and 2d scaling vectors"
   ]
  },
  {
   "cell_type": "code",
   "execution_count": 80,
   "id": "c3a69895-6371-4800-8ff1-46c896a3af2c",
   "metadata": {},
   "outputs": [
    {
     "name": "stderr",
     "output_type": "stream",
     "text": [
      "/tmp/ipykernel_28226/3285656845.py:77: ComplexWarning: Casting complex values to real discards the imaginary part\n",
      "  return rot.astype(np.float32), eigenvalues.astype(np.float32)\n"
     ]
    }
   ],
   "source": [
    "# Tiling weights 4x4 into 4 2x2 matrices\n",
    "w_t=from_arr_to_tiles(weights)\n",
    "\n",
    "# From 2x2 matrix to 2x2 rotation matrix\n",
    "w_rot_t=[]\n",
    "w_val_t=[]\n",
    "for w_ti in w_t:\n",
    "    rot_matrix, eigen_values=from_random_to_rotation(w_ti)\n",
    "    w_rot_t.append(rot_matrix)\n",
    "    w_val_t.append(eigen_values)"
   ]
  },
  {
   "cell_type": "markdown",
   "id": "d6363cde-c408-4479-9206-b1eb80bfc614",
   "metadata": {},
   "source": [
    "### Prediction with the 2x2 rotation matrices and 2D scaling vec."
   ]
  },
  {
   "cell_type": "code",
   "execution_count": 81,
   "id": "db2a8ce8-1a4f-41fa-aa87-ccfe58c595c0",
   "metadata": {},
   "outputs": [
    {
     "name": "stdout",
     "output_type": "stream",
     "text": [
      "Expected Y: [[ 0.37339233]\n",
      " [ 0.85102612]\n",
      " [-0.67755906]\n",
      " [-0.65268413]]\n",
      "Reconstructed Y: [[-1.03054864]\n",
      " [ 0.92809649]\n",
      " [ 0.67841055]\n",
      " [ 2.26272296]]\n",
      "Prediction MSE: 0.0539663482169657\n"
     ]
    }
   ],
   "source": [
    "# Predicting with 2x2 rotations and 2d scaling vectors \n",
    "reconstructed_y=tiled_prediction(w_rot_t, w_val_t, X)\n",
    "print(f\"Expected Y:\", Y)\n",
    "print(f\"Reconstructed Y:\", reconstructed_y)\n",
    "print(f\"Prediction MSE: {np.mean((Y-Y_reconstructed)**2)}\")"
   ]
  },
  {
   "cell_type": "markdown",
   "id": "513eacac-fde5-43cf-8476-7e6a38884aec",
   "metadata": {},
   "source": [
    "### MZI and attenuators angles of the phase shift (radian)"
   ]
  },
  {
   "cell_type": "code",
   "execution_count": 82,
   "id": "25732c70-754a-4190-a140-3b35a8ea0991",
   "metadata": {},
   "outputs": [
    {
     "name": "stdout",
     "output_type": "stream",
     "text": [
      "MZI#0 rotation angle = 1.074408 , associated attenuators: [1.3748369 1.3748369]\n",
      "MZI#1 rotation angle = 1.6313761 , associated attenuators: [1.3432273 0.7021385]\n",
      "MZI#2 rotation angle = 1.3048719 , associated attenuators: [0.4750728 0.4750728]\n",
      "MZI#3 rotation angle = 1.0543903 , associated attenuators: [0.9916114 2.4810073]\n"
     ]
    }
   ],
   "source": [
    "# MZI angles\n",
    "for i in range(len(w_rot_t)):\n",
    "    mzi_theta=rotation_mzi_angle(w_rot_t[i])\n",
    "    atts_theta=rotation_2attenuators_angle(w_val_t[i])\n",
    "    print(f\"MZI#{i} rotation angle = {str(round(mzi_theta,7))} , associated attenuators: {np.round(atts_theta,7)}\")\n"
   ]
  },
  {
   "cell_type": "markdown",
   "id": "f1163547-d52e-4b5b-9054-8d301d2c9478",
   "metadata": {},
   "source": [
    "## Strategy 2: Teacher-Student approach \n",
    "\n",
    "The teacher is a standard ANN (NxN weights) and the student ONN (set of 2x2 rotation matrices). This method is a data driven procedure."
   ]
  },
  {
   "cell_type": "markdown",
   "id": "57c417ed-d400-4ed9-807c-46a9ce572ab4",
   "metadata": {},
   "source": [
    "### Generate random data to get the teacher predictions"
   ]
  },
  {
   "cell_type": "code",
   "execution_count": 107,
   "id": "b9983406-b661-4eb7-ae8e-ea648973243b",
   "metadata": {},
   "outputs": [],
   "source": [
    "def teacher(W, nb_data):\n",
    "    synt_data=np.random.uniform(-1., +1., (nb_data , 4, 1))\n",
    "    teacher_pred=[]\n",
    "    for x in synt_data:\n",
    "        pred_Y=np.dot(W,x)# <-- teacher model\n",
    "        teacher_pred.append( pred_Y )\n",
    "    \n",
    "    #reformating by squeezing\n",
    "    synt_data=synt_data.squeeze()\n",
    "    teacher_pred=np.array(teacher_pred).squeeze()\n",
    "    return synt_data, teacher_pred\n",
    "teacher_X, teacher_pred = teacher(weights, 1000)"
   ]
  },
  {
   "cell_type": "markdown",
   "id": "bcf63b49-1761-48e9-9460-0ff844cd289d",
   "metadata": {},
   "source": [
    "### The student is trained to mimic the teacher"
   ]
  },
  {
   "cell_type": "code",
   "execution_count": 109,
   "id": "3c966b57-47fe-4e6b-a134-386cf121c4eb",
   "metadata": {},
   "outputs": [
    {
     "name": "stdout",
     "output_type": "stream",
     "text": [
      "0.10698833\n",
      "0.07487212\n",
      "0.07161769\n",
      "0.07159352\n",
      "0.07159182\n"
     ]
    }
   ],
   "source": [
    "from ONN import ONN # contains photonic neural network\n",
    "hp={\"lr\":1., \"lr_decay\":10., \"layers\":[4], \"epochs\": 5}\n",
    "student_onn=ONN(hp)\n",
    "student_onn.initialize()   \n",
    "student_onn.fit(teacher_X, teacher_pred, teacher_X, teacher_pred)"
   ]
  },
  {
   "cell_type": "markdown",
   "id": "410f0c69-1485-4199-aa3a-2fc7034cf901",
   "metadata": {},
   "source": [
    "### Prediction with the student model (ONN)"
   ]
  },
  {
   "cell_type": "code",
   "execution_count": 110,
   "id": "64e3b86b-cbc6-487b-9e4f-7be732a7706e",
   "metadata": {},
   "outputs": [
    {
     "name": "stdout",
     "output_type": "stream",
     "text": [
      "Y expected: [ 0.37339233  0.85102612 -0.67755906 -0.65268413]\n",
      "Y reconstructed: [ 0.93145835  0.62140274 -0.75870734 -0.62532663]\n",
      "Prediction MSE: 0.09287450462579727\n"
     ]
    }
   ],
   "source": [
    "Y_reconstructed=student_onn.predict(np.array([X.squeeze()])).squeeze()\n",
    "Y_expected=Y.squeeze()\n",
    "\n",
    "print(f\"Y expected: {Y_expected}\")\n",
    "print(f\"Y reconstructed: {Y_reconstructed}\")\n",
    "print(f\"Prediction MSE: {np.mean((Y_expected-Y_reconstructed)**2)}\")"
   ]
  },
  {
   "cell_type": "markdown",
   "id": "38b432b4-8245-4387-bc8d-e3f59603fbd7",
   "metadata": {},
   "source": [
    "### Theta of phase shifters"
   ]
  },
  {
   "cell_type": "code",
   "execution_count": 111,
   "id": "77b6ec30-7a9d-4056-b853-62f79fdc8735",
   "metadata": {},
   "outputs": [
    {
     "name": "stdout",
     "output_type": "stream",
     "text": [
      "[Array([-3.1486027,  0.282853 ], dtype=float32), Array([1.6477056], dtype=float32), Array([ 1.4729869, -2.0515711], dtype=float32), Array([-0.7082593], dtype=float32)]\n"
     ]
    }
   ],
   "source": [
    "print(model.W)"
   ]
  },
  {
   "cell_type": "markdown",
   "id": "ff76b168-616b-4c04-a907-b261f9b3038b",
   "metadata": {},
   "source": [
    "NB: The teacher is 4x4 matrix, and the student contains 4 columns of respectively 2,1,2,1 MZIs. The teacher contains 16 parameters and the student only 6 params."
   ]
  },
  {
   "cell_type": "markdown",
   "id": "eed5b45b-257b-4cae-b4d1-84cad05cc553",
   "metadata": {},
   "source": [
    "## Strategy 4: Teacher-Student with prior SVD decomposition\n",
    "\n",
    "After SVD decomposition, we have two teachers and two associated students. The procedure is similar than strategy 3 but applied indpedantly on S and V."
   ]
  },
  {
   "cell_type": "markdown",
   "id": "aaabbe13-02ab-4209-a4b5-89a1bee3c7b2",
   "metadata": {},
   "source": [
    "teacher_u, teacher_v produce preds"
   ]
  },
  {
   "cell_type": "code",
   "execution_count": 112,
   "id": "88f33278-a3d8-4c31-b40a-94df2fc26631",
   "metadata": {},
   "outputs": [],
   "source": [
    "u, s, vT = np.linalg.svd(weights, full_matrices=False)\n",
    "s_diag=np.diag(s)\n",
    "teacher_u_X, teacher_u_pred = teacher(u, 1000)\n",
    "teacher_v_X, teacher_v_pred = teacher(vT, 1000)"
   ]
  },
  {
   "cell_type": "markdown",
   "id": "29c75609-469d-4120-8021-8c85c306d385",
   "metadata": {},
   "source": [
    "student_u, student_v are trained to mimic their teacher"
   ]
  },
  {
   "cell_type": "code",
   "execution_count": 113,
   "id": "8b27a1b9-2a07-4070-b24c-c54c4baff987",
   "metadata": {},
   "outputs": [
    {
     "name": "stdout",
     "output_type": "stream",
     "text": [
      "Teacher_u -> Student_u training\n",
      "0.33702737\n",
      "0.33489755\n",
      "0.3336078\n",
      "0.33354986\n",
      "0.33354458\n",
      "Teacher_v -> Student_v training\n",
      "0.34730762\n",
      "0.34290767\n",
      "0.34273097\n",
      "0.34270787\n",
      "0.34270602\n"
     ]
    }
   ],
   "source": [
    "from ONN import ONN # contains photonic neural network\n",
    "hp={\"lr\":1., \"lr_decay\":10., \"layers\":[4], \"epochs\": 5}\n",
    "student_u=ONN(hp)\n",
    "student_u.initialize() \n",
    "print(\"Teacher_u -> Student_u training\")\n",
    "student_u.fit(teacher_u_X, teacher_u_pred, teacher_u_X, teacher_u_pred)\n",
    "\n",
    "hp={\"lr\":1., \"lr_decay\":10., \"layers\":[4], \"epochs\": 5}\n",
    "student_v=ONN(hp)\n",
    "student_v.initialize() \n",
    "print(\"Teacher_v -> Student_v training\")\n",
    "student_v.fit(teacher_v_X, teacher_v_pred, teacher_v_X, teacher_v_pred)"
   ]
  },
  {
   "cell_type": "markdown",
   "id": "2d8cd291-3ce1-4ebd-95e8-3f6991dc6a66",
   "metadata": {},
   "source": [
    "Prediction on new data with student_u, student_v and diag_s"
   ]
  },
  {
   "cell_type": "code",
   "execution_count": 114,
   "id": "030272d1-f7c5-46dc-8f0b-8d77b2d2e52a",
   "metadata": {},
   "outputs": [
    {
     "name": "stdout",
     "output_type": "stream",
     "text": [
      "Y expected: [ 0.37339233  0.85102612 -0.67755906 -0.65268413]\n",
      "Y reconstructed: [ 1.60870897  0.63157953 -0.01950631  0.29593791]\n",
      "Prediction MSE: 0.7267703008886807\n"
     ]
    }
   ],
   "source": [
    "# compute v.T*x\n",
    "vTx=student_u.predict(np.array([X.squeeze()])).squeeze()\n",
    "# compute u*v.T*x\n",
    "uvTx=student_v.predict(np.array([vTx.squeeze()])).squeeze()\n",
    "# compute diag_s*u*v.T*x\n",
    "Y_reconstructed=np.dot(s_diag , uvTx)\n",
    "\n",
    "Y_expected=Y.squeeze()\n",
    "print(f\"Y expected: {Y_expected}\")\n",
    "print(f\"Y reconstructed: {Y_reconstructed}\")\n",
    "print(f\"Prediction MSE: {np.mean((Y_expected-Y_reconstructed)**2)}\")"
   ]
  },
  {
   "cell_type": "markdown",
   "id": "5acc7269-e6a7-42d9-a3fe-8b0a782431e8",
   "metadata": {},
   "source": [
    "### Theta of phase shifters"
   ]
  },
  {
   "cell_type": "code",
   "execution_count": 115,
   "id": "62c58068-7f0a-4315-bb9c-774088221829",
   "metadata": {},
   "outputs": [
    {
     "name": "stdout",
     "output_type": "stream",
     "text": [
      "U phase shifters:\n",
      "[Array([-2.5794332, -5.7190742], dtype=float32), Array([5.4699335], dtype=float32), Array([-0.9637948,  0.1765687], dtype=float32), Array([4.623848], dtype=float32)]\n",
      "V phase shifters:\n",
      "[Array([-1.0001415, -3.054548 ], dtype=float32), Array([1.2980582], dtype=float32), Array([-4.163986, -8.60073 ], dtype=float32), Array([9.581584], dtype=float32)]\n",
      "S attenuators:\n",
      "[1.57967707 1.09579685 0.77645471 0.32089482]\n"
     ]
    }
   ],
   "source": [
    "print(\"U phase shifters:\")\n",
    "print(student_u.W)\n",
    "print(\"V phase shifters:\")\n",
    "print(student_v.W)\n",
    "print(\"S attenuators:\")\n",
    "print(s)"
   ]
  },
  {
   "cell_type": "markdown",
   "id": "b7655d68-027f-4a78-b7de-e6322b3531c6",
   "metadata": {},
   "source": [
    "Conclusion:  Different random seeds show that strat3 is more accurate than strat4. \"y_pred=approx(w).x\" seems more accurate than successive errors \"y_pred=s.approx(u).approx(v).x\" ."
   ]
  },
  {
   "cell_type": "markdown",
   "id": "dfa41f05-6fa4-4ef0-b226-90c10f3d1ddd",
   "metadata": {},
   "source": [
    "## Strategy 5: Auto-Encoder from NN weights to ONN weights"
   ]
  },
  {
   "cell_type": "code",
   "execution_count": null,
   "id": "c4378c09-65b8-436d-b912-68b3af81bd16",
   "metadata": {},
   "outputs": [],
   "source": []
  }
 ],
 "metadata": {
  "kernelspec": {
   "display_name": "Python 3",
   "language": "python",
   "name": "python3"
  },
  "language_info": {
   "codemirror_mode": {
    "name": "ipython",
    "version": 3
   },
   "file_extension": ".py",
   "mimetype": "text/x-python",
   "name": "python",
   "nbconvert_exporter": "python",
   "pygments_lexer": "ipython3",
   "version": "3.8.12"
  }
 },
 "nbformat": 4,
 "nbformat_minor": 5
}
