{
 "cells": [
  {
   "cell_type": "markdown",
   "id": "673de73c-3a58-4b75-bca2-9917309967d4",
   "metadata": {},
   "source": [
    "# From ANN to ONN\n",
    "\n",
    "\n",
    "\n"
   ]
  },
  {
   "cell_type": "markdown",
   "id": "8ab2b6bd-2c74-4312-8e55-8d1ba9f5a4d4",
   "metadata": {},
   "source": [
    "Given a keras file (neural network) and calibration data, build and train the photonic equivalent."
   ]
  },
  {
   "cell_type": "markdown",
   "id": "9ce40f56-c6db-43a2-9680-2dfa307070e4",
   "metadata": {},
   "source": [
    "## Read calibration data"
   ]
  },
  {
   "cell_type": "code",
   "execution_count": 1,
   "id": "b4c279cf-0598-49ec-9570-0b6cd8fbf287",
   "metadata": {},
   "outputs": [
    {
     "name": "stdout",
     "output_type": "stream",
     "text": [
      "(60000, 64)\n",
      "(60000, 10)\n",
      "(10000, 64)\n",
      "(10000, 10)\n",
      "(100, 64)\n",
      "[0 6 2 4 1 5 9 7 2 1 2 9 8 7 1 8 9 5 9 6 8 7 3 0 8 9 9 1 5 2 7 1 5 5 5 9 4\n",
      " 9 1 0 4 6 0 4 8 8 9 6 7 4 7 7 0 9 5 5 7 9 5 3 5 5 1 2 7 1 3 0 9 7 1 7 9 2\n",
      " 1 7 9 5 1 8 7 8 1 8 4 1 7 1 4 2 2 6 8 2 8 1 9 3 8 5]\n"
     ]
    }
   ],
   "source": [
    "import numpy as np\n",
    "import keras\n",
    "\n",
    "# synthetic data\n",
    "#calib_data=np.random.uniform(-1., +1., (100, 256))\n",
    "\n",
    "# realistic data\n",
    "N = 8\n",
    "nb_data = 100\n",
    "from ANN import get_db\n",
    "(train_X, train_Y), (test_X, test_Y) = get_db(\"MNIST\", N, shuffle=True)\n",
    "calib_data=train_X[:nb_data]\n",
    "\n",
    "\n",
    "print(calib_data.shape)\n",
    "print(np.argmax(train_Y[:nb_data],axis=1))"
   ]
  },
  {
   "cell_type": "markdown",
   "id": "58345a79-902e-42da-b952-12e0c5986831",
   "metadata": {},
   "source": [
    "## Read weights"
   ]
  },
  {
   "cell_type": "code",
   "execution_count": 3,
   "id": "0ff7a498-bdb2-4ac7-9ed6-fde52b40cd74",
   "metadata": {},
   "outputs": [],
   "source": [
    "keras_path = \"tmp/MNIST/model_0/\"\n",
    "ann = keras.models.load_model(keras_path)\n",
    "\n",
    "W1 = ann.layers[1].get_weights()[0]\n",
    "W2 = ann.layers[3].get_weights()[0]\n",
    "\n",
    "# free memory\n",
    "keras.backend.clear_session()\n",
    "del ann"
   ]
  },
  {
   "cell_type": "markdown",
   "id": "5107b95b-e8ba-40ef-843d-acd190dd9910",
   "metadata": {},
   "source": [
    "## Teacher (ANN) Student (ONN) settings using SVD decomposition"
   ]
  },
  {
   "cell_type": "code",
   "execution_count": 18,
   "id": "cf5294ee-bdfb-4d77-9166-de71f160b385",
   "metadata": {},
   "outputs": [],
   "source": [
    "from TeacherStudent import TeacherMatrix, TeacherStudent, TeacherStudent_SVD\n",
    "import ONN\n",
    "\n",
    "LR=0.1\n",
    "LR_DECAY=10.\n",
    "EPOCHS=1\n",
    "DEBUG=True\n",
    "\n",
    "M,N=W1.shape\n",
    "col_M=min(M,4) if DEBUG else M # 4 MZI column for debugging\n",
    "col_N=min(N,4) if DEBUG else N\n",
    "hp_v = {\"lr\": LR, \"lr_decay\": LR_DECAY, \"layers\": [M], \"pattern\": [\"rectangle\"], \"col_layer_limit\": [col_M]}\n",
    "hp_u = {\"lr\": LR, \"lr_decay\": LR_DECAY, \"layers\": [N], \"pattern\": [\"rectangle\"],\n",
    "        \"col_layer_limit\": [col_N]}\n",
    "student_v_W1 = ONN.ONN(hp_v, {}, {\"epochs\": EPOCHS, \"loss\": ONN.clipped_MSE, \"metrics\": ONN.MSE})\n",
    "student_u_W1 = ONN.ONN(hp_u, {}, {\"epochs\": EPOCHS, \"loss\": ONN.clipped_MSE, \"metrics\": ONN.MSE})\n",
    "teacher_student_W1 = TeacherStudent_SVD(W1, student_u_W1, student_v_W1 )\n",
    "\n",
    "\n",
    "M,N=W2.shape\n",
    "col_M=min(M,4) if DEBUG else M\n",
    "col_N=min(N,4) if DEBUG else N\n",
    "hp_v = {\"lr\": LR, \"lr_decay\": LR_DECAY, \"layers\": [M], \"pattern\": [\"rectangle\"], \"col_layer_limit\": [col_M]}\n",
    "hp_u = {\"lr\": LR, \"lr_decay\": LR_DECAY, \"layers\": [N], \"pattern\": [\"rectangle\"], \"col_layer_limit\": [col_N]}\n",
    "\n",
    "student_v_W2 = ONN.ONN(hp_v, {}, {\"epochs\": EPOCHS, \"loss\": ONN.clipped_MSE, \"metrics\": ONN.MSE})\n",
    "student_u_W2 = ONN.ONN(hp_u, {}, {\"epochs\": EPOCHS, \"loss\": ONN.clipped_MSE, \"metrics\": ONN.MSE})\n",
    "teacher_student_W2 = TeacherStudent_SVD(W2, student_u_W2, student_v_W2 )"
   ]
  },
  {
   "cell_type": "markdown",
   "id": "b3129319-7748-468e-bb0e-f56076bc00f5",
   "metadata": {},
   "source": [
    "## Teacher-Student training with LR scheduling"
   ]
  },
  {
   "cell_type": "code",
   "execution_count": 19,
   "id": "ed1f9b00-4fe0-4706-acbb-455855cd71cf",
   "metadata": {},
   "outputs": [
    {
     "name": "stdout",
     "output_type": "stream",
     "text": [
      "64\n",
      "1.335458\n",
      "1.0525422\n",
      "0.90156543\n",
      "0.817489\n",
      "0.76182693\n",
      "0.7213937\n",
      "0.6917838\n",
      "0.67041993\n",
      "0.65565836\n",
      "0.6450027\n",
      "0.6371933\n",
      "0.63150054\n",
      "0.6280534\n",
      "0.62430245\n",
      "0.6212123\n",
      "0.6181451\n",
      "0.6146537\n",
      "0.6115196\n",
      "0.60887533\n",
      "0.6072415\n",
      "0.60656375\n",
      "0.6042567\n",
      "0.6012192\n",
      "0.59984183\n",
      "0.5982474\n",
      "0.59715146\n",
      "0.5946223\n",
      "0.59360754\n",
      "0.5921987\n",
      "0.5915034\n",
      "0.58991086\n",
      "0.5883945\n",
      "0.5883978\n",
      "New LR:  0.01\n",
      "0.58648217\n",
      "0.5840174\n",
      "0.58243173\n",
      "0.582582\n",
      "New LR:  0.001\n",
      "0.5818692\n",
      "0.58201694\n",
      "New LR:  0.0001\n",
      "0.5809755\n",
      "0.58082527\n",
      "0.57930344\n",
      "0.5793025\n",
      "New LR:  1e-05\n",
      "Stopping\n",
      "Training score:  0.6034349\n",
      "Validation score:  0.5793025\n",
      "Testing score:  0.60408986\n",
      "Time:  8.72546124458313\n",
      "64\n",
      "1.315587\n",
      "1.0195557\n",
      "0.86459625\n",
      "0.7891711\n",
      "0.74582356\n",
      "0.7171211\n",
      "0.6964451\n",
      "0.6809429\n",
      "0.6670236\n",
      "0.6587871\n",
      "0.6490838\n",
      "0.64226496\n",
      "0.635923\n",
      "0.6289617\n",
      "0.6223427\n",
      "0.6183684\n",
      "0.6114818\n",
      "0.6062661\n",
      "0.6018616\n",
      "0.59801584\n",
      "0.5930597\n",
      "0.5894712\n",
      "0.585773\n",
      "0.5797347\n",
      "0.5741379\n",
      "0.5697549\n",
      "0.5659505\n",
      "0.560411\n",
      "0.55621356\n",
      "0.5510205\n",
      "0.54732525\n",
      "0.5437691\n",
      "0.5406737\n",
      "0.5376903\n",
      "0.53511035\n",
      "0.5321638\n",
      "0.5313734\n",
      "0.5307545\n",
      "0.5282713\n",
      "0.52668494\n",
      "0.52485764\n",
      "0.5232273\n",
      "0.52144337\n",
      "0.5208132\n",
      "0.5189719\n",
      "0.5165416\n",
      "0.51562417\n",
      "0.5142307\n",
      "0.51165193\n",
      "0.5085715\n",
      "0.5055635\n",
      "0.5037612\n",
      "0.5022059\n",
      "0.5006424\n",
      "0.4979015\n",
      "0.49670672\n",
      "0.49413997\n",
      "0.49296838\n",
      "0.49036512\n",
      "0.48784178\n",
      "0.48748666\n",
      "0.48647055\n",
      "0.48489594\n",
      "0.48416042\n",
      "0.48210448\n",
      "0.48088175\n",
      "0.481184\n",
      "New LR:  0.01\n",
      "0.48025256\n",
      "0.47928268\n",
      "0.47764438\n",
      "0.4766643\n",
      "0.4763735\n",
      "0.4752678\n",
      "0.4749638\n",
      "0.47456592\n",
      "0.47342262\n",
      "0.47251558\n",
      "0.4726655\n",
      "New LR:  0.001\n",
      "0.47149903\n",
      "0.47064668\n",
      "0.46871954\n",
      "0.4693583\n",
      "New LR:  0.0001\n",
      "0.46778685\n",
      "0.4669218\n",
      "0.4670101\n",
      "New LR:  1e-05\n",
      "Stopping\n",
      "Training score:  0.48518118\n",
      "Validation score:  0.4670101\n",
      "Testing score:  0.4767104\n",
      "Time:  10.342411279678345\n",
      "64\n",
      "0.4884642\n",
      "0.45540223\n",
      "0.44759312\n",
      "0.4414071\n",
      "0.4322496\n",
      "0.40999302\n",
      "0.41354242\n",
      "New LR:  0.01\n",
      "0.41323042\n",
      "0.4002809\n",
      "0.39489356\n",
      "0.39889187\n",
      "New LR:  0.001\n",
      "0.39712277\n",
      "0.39364082\n",
      "0.38595352\n",
      "0.39532477\n",
      "New LR:  0.0001\n",
      "0.39235067\n",
      "0.41777635\n",
      "New LR:  1e-05\n",
      "Stopping\n",
      "Training score:  0.38233277\n",
      "Validation score:  0.41777635\n",
      "Testing score:  0.47011414\n",
      "Time:  7.0987303256988525\n",
      "10\n",
      "33.36335\n",
      "30.252514\n",
      "31.742615\n",
      "New LR:  0.01\n",
      "32.226135\n",
      "32.223022\n",
      "31.970453\n",
      "31.99052\n",
      "New LR:  0.001\n",
      "32.715244\n",
      "30.98458\n",
      "31.841644\n",
      "New LR:  0.0001\n",
      "29.087948\n",
      "31.539068\n",
      "New LR:  1e-05\n",
      "Stopping\n",
      "Training score:  30.457663\n",
      "Validation score:  31.539068\n",
      "Testing score:  34.1307\n",
      "Time:  2.3573074340820312\n"
     ]
    }
   ],
   "source": [
    "# Teacher student training for W1\n",
    "teacher_student_W1.fit(calib_data)\n",
    "\n",
    "# Training for W2\n",
    "A=teacher_student_W1.predict(calib_data) # Notice: Student W2 is trained on W1 prediction\n",
    "A=np.maximum(A,0)\n",
    "score=teacher_student_W2.fit(A)"
   ]
  },
  {
   "cell_type": "markdown",
   "id": "bcf63b49-1761-48e9-9460-0ff844cd289d",
   "metadata": {},
   "source": [
    "## ONN prediction"
   ]
  },
  {
   "cell_type": "code",
   "execution_count": 21,
   "id": "3c966b57-47fe-4e6b-a134-386cf121c4eb",
   "metadata": {},
   "outputs": [],
   "source": [
    "A=teacher_student_W1.predict(A)\n",
    "A=np.maximum(A,0) #<- relu\n",
    "Y2=teacher_student_W2.predict(A)"
   ]
  },
  {
   "cell_type": "markdown",
   "id": "410f0c69-1485-4199-aa3a-2fc7034cf901",
   "metadata": {},
   "source": [
    "## Evaluate the prediction"
   ]
  },
  {
   "cell_type": "code",
   "execution_count": 22,
   "id": "64e3b86b-cbc6-487b-9e4f-7be732a7706e",
   "metadata": {},
   "outputs": [
    {
     "name": "stdout",
     "output_type": "stream",
     "text": [
      "ACCURACY :  0.05\n"
     ]
    }
   ],
   "source": [
    "score=np.mean(   np.argmax(Y2,axis=1) == np.argmax(train_Y[:nb_data],axis=1)   )\n",
    "print(\"ACCURACY : \", score) # NOTICE: when DEBUG is enabled, this is normal the accuracy is not good!"
   ]
  },
  {
   "cell_type": "markdown",
   "id": "db5b736a-72c3-4541-a25c-ae679d979c8d",
   "metadata": {},
   "source": [
    "## Models interpretation"
   ]
  },
  {
   "cell_type": "code",
   "execution_count": 27,
   "id": "c1eed8ed-3330-4449-b364-256f618fdb32",
   "metadata": {},
   "outputs": [
    {
     "data": {
      "text/plain": [
       "(array([   2,    4,   12,   74,  387, 1792, 1495,  280,   45,    5]),\n",
       " array([-1.5707824 , -1.304939  , -1.0390958 , -0.7732524 , -0.5074091 ,\n",
       "        -0.24156576,  0.02427757,  0.2901209 ,  0.55596423,  0.82180756,\n",
       "         1.0876509 ], dtype=float32))"
      ]
     },
     "execution_count": 27,
     "metadata": {},
     "output_type": "execute_result"
    }
   ],
   "source": [
    "np.histogram(W1)"
   ]
  },
  {
   "cell_type": "code",
   "execution_count": 28,
   "id": "54f41bf6-d754-4823-9d47-fc14f2234801",
   "metadata": {},
   "outputs": [
    {
     "data": {
      "text/plain": [
       "(array([  4,   2,  26,  51,  77, 164, 153, 126,  28,   9]),\n",
       " array([-1.7247293 , -1.4425162 , -1.1603031 , -0.87808996, -0.5958769 ,\n",
       "        -0.31366378, -0.03145068,  0.25076243,  0.53297555,  0.81518865,\n",
       "         1.0974017 ], dtype=float32))"
      ]
     },
     "execution_count": 28,
     "metadata": {},
     "output_type": "execute_result"
    }
   ],
   "source": [
    "np.histogram(W2)"
   ]
  },
  {
   "cell_type": "code",
   "execution_count": 47,
   "id": "dfd5ea75-ed4e-437d-8696-85beeb74dc51",
   "metadata": {},
   "outputs": [
    {
     "name": "stdout",
     "output_type": "stream",
     "text": [
      "(array([ 5,  8, 18, 26, 28, 16, 19,  3,  2,  1]), array([-2.2346728 , -1.7132144 , -1.191756  , -0.6702977 , -0.14883932,\n",
      "        0.37261903,  0.8940774 ,  1.4155358 ,  1.9369941 ,  2.4584525 ,\n",
      "        2.9799109 ], dtype=float32))\n",
      "(array([15, 13,  9,  7,  6,  3,  4,  1,  3,  3]), array([0.0079032 , 0.45109016, 0.8942771 , 1.337464  , 1.780651  ,\n",
      "       2.2238379 , 2.6670249 , 3.1102118 , 3.5533986 , 3.9965856 ,\n",
      "       4.4397726 ], dtype=float32))\n",
      "(array([ 9, 10, 11, 17, 22, 24, 23,  5,  4,  1]), array([-2.3940642 , -1.8652995 , -1.3365347 , -0.8077701 , -0.27900538,\n",
      "        0.24975932,  0.77852404,  1.3072888 ,  1.8360534 ,  2.364818  ,\n",
      "        2.8935828 ], dtype=float32))\n"
     ]
    }
   ],
   "source": [
    "print( np.histogram(np.concatenate(teacher_student_W1.student_v.W[0], axis=0)) )\n",
    "print( np.histogram( teacher_student_W1.s) )\n",
    "print( np.histogram(np.concatenate(teacher_student_W1.student_u.W[0], axis=0)) )"
   ]
  },
  {
   "cell_type": "code",
   "execution_count": 48,
   "id": "88737873-c271-4bfc-abcb-66287f202333",
   "metadata": {},
   "outputs": [
    {
     "name": "stdout",
     "output_type": "stream",
     "text": [
      "(array([10, 21, 31, 21, 22, 13,  5,  2,  0,  1]), array([-1.2621078 , -0.85013866, -0.43816942, -0.02620022,  0.38576898,\n",
      "        0.7977382 ,  1.2097074 ,  1.6216766 ,  2.0336459 ,  2.445615  ,\n",
      "        2.8575842 ], dtype=float32))\n",
      "(array([3, 1, 1, 1, 0, 1, 1, 0, 1, 1]), array([2.235886 , 2.540027 , 2.844168 , 3.1483088, 3.4524498, 3.7565906,\n",
      "       4.0607314, 4.3648725, 4.6690135, 4.973154 , 5.277295 ],\n",
      "      dtype=float32))\n",
      "(array([3, 1, 1, 3, 1, 1, 2, 3, 1, 2]), array([-1.7171109 , -1.3682885 , -1.0194662 , -0.67064387, -0.3218215 ,\n",
      "        0.02700084,  0.3758232 ,  0.72464556,  1.0734679 ,  1.4222902 ,\n",
      "        1.7711126 ], dtype=float32))\n"
     ]
    }
   ],
   "source": [
    "print( np.histogram(np.concatenate(teacher_student_W2.student_v.W[0], axis=0)) )\n",
    "print( np.histogram( teacher_student_W2.s) )\n",
    "print( np.histogram(np.concatenate(teacher_student_W2.student_u.W[0], axis=0)) )"
   ]
  },
  {
   "cell_type": "code",
   "execution_count": null,
   "id": "974447c3-259d-4048-88f9-0b1c9c46c82c",
   "metadata": {},
   "outputs": [],
   "source": []
  }
 ],
 "metadata": {
  "kernelspec": {
   "display_name": "Python 3",
   "language": "python",
   "name": "python3"
  },
  "language_info": {
   "codemirror_mode": {
    "name": "ipython",
    "version": 3
   },
   "file_extension": ".py",
   "mimetype": "text/x-python",
   "name": "python",
   "nbconvert_exporter": "python",
   "pygments_lexer": "ipython3",
   "version": "3.8.12"
  }
 },
 "nbformat": 4,
 "nbformat_minor": 5
}
